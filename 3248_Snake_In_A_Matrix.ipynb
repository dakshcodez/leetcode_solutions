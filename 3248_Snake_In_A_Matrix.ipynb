{
 "cells": [
  {
   "cell_type": "code",
   "execution_count": 3,
   "id": "f16aefa2-acc7-4b6d-bc29-39804300445c",
   "metadata": {},
   "outputs": [],
   "source": [
    "def SnakeInAMatrix(n,commands):\n",
    "    row,col = 0,0\n",
    "    for command in commands:\n",
    "        if command == \"LEFT\":\n",
    "            col-=1\n",
    "        elif command == \"RIGHT\":\n",
    "            col+=1\n",
    "        elif command == \"UP\":\n",
    "            row-=1\n",
    "        elif command == \"DOWN\":\n",
    "            row+=1\n",
    "    return row * n + col"
   ]
  },
  {
   "cell_type": "code",
   "execution_count": 4,
   "id": "9bc56642-f034-4f8f-b157-93ad53cef1a2",
   "metadata": {},
   "outputs": [
    {
     "name": "stdout",
     "output_type": "stream",
     "text": [
      "3\n"
     ]
    }
   ],
   "source": [
    "n=2\n",
    "commands = [\"RIGHT\",\"DOWN\"]\n",
    "ans = SnakeInAMatrix(n,commands)\n",
    "print(ans)"
   ]
  }
 ],
 "metadata": {
  "kernelspec": {
   "display_name": "Python 3 (ipykernel)",
   "language": "python",
   "name": "python3"
  },
  "language_info": {
   "codemirror_mode": {
    "name": "ipython",
    "version": 3
   },
   "file_extension": ".py",
   "mimetype": "text/x-python",
   "name": "python",
   "nbconvert_exporter": "python",
   "pygments_lexer": "ipython3",
   "version": "3.12.7"
  }
 },
 "nbformat": 4,
 "nbformat_minor": 5
}
